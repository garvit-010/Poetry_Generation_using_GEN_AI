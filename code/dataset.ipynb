{
 "cells": [
  {
   "cell_type": "markdown",
   "id": "96e0bc65",
   "metadata": {},
   "source": [
    "## Required Libraries"
   ]
  },
  {
   "cell_type": "code",
   "execution_count": 1,
   "id": "88dbee9e",
   "metadata": {},
   "outputs": [
    {
     "name": "stdout",
     "output_type": "stream",
     "text": [
      "Requirement already satisfied: transformers in c:\\users\\garvi\\appdata\\local\\programs\\python\\python312\\lib\\site-packages (4.46.3)\n",
      "Collecting datasets\n",
      "  Downloading datasets-3.6.0-py3-none-any.whl.metadata (19 kB)\n",
      "Requirement already satisfied: torch in c:\\users\\garvi\\appdata\\local\\programs\\python\\python312\\lib\\site-packages (2.5.1)\n",
      "Requirement already satisfied: filelock in c:\\users\\garvi\\appdata\\local\\programs\\python\\python312\\lib\\site-packages (from transformers) (3.16.0)\n",
      "Requirement already satisfied: huggingface-hub<1.0,>=0.23.2 in c:\\users\\garvi\\appdata\\local\\programs\\python\\python312\\lib\\site-packages (from transformers) (0.24.7)\n",
      "Requirement already satisfied: numpy>=1.17 in c:\\users\\garvi\\appdata\\local\\programs\\python\\python312\\lib\\site-packages (from transformers) (1.26.4)\n",
      "Requirement already satisfied: packaging>=20.0 in c:\\users\\garvi\\appdata\\local\\programs\\python\\python312\\lib\\site-packages (from transformers) (25.0)\n",
      "Requirement already satisfied: pyyaml>=5.1 in c:\\users\\garvi\\appdata\\local\\programs\\python\\python312\\lib\\site-packages (from transformers) (6.0.1)\n",
      "Requirement already satisfied: regex!=2019.12.17 in c:\\users\\garvi\\appdata\\local\\programs\\python\\python312\\lib\\site-packages (from transformers) (2024.11.6)\n",
      "Requirement already satisfied: requests in c:\\users\\garvi\\appdata\\local\\programs\\python\\python312\\lib\\site-packages (from transformers) (2.32.3)\n",
      "Requirement already satisfied: tokenizers<0.21,>=0.20 in c:\\users\\garvi\\appdata\\local\\programs\\python\\python312\\lib\\site-packages (from transformers) (0.20.3)\n",
      "Requirement already satisfied: safetensors>=0.4.1 in c:\\users\\garvi\\appdata\\local\\programs\\python\\python312\\lib\\site-packages (from transformers) (0.4.5)\n",
      "Requirement already satisfied: tqdm>=4.27 in c:\\users\\garvi\\appdata\\local\\programs\\python\\python312\\lib\\site-packages (from transformers) (4.66.5)\n",
      "Requirement already satisfied: fsspec>=2023.5.0 in c:\\users\\garvi\\appdata\\local\\programs\\python\\python312\\lib\\site-packages (from huggingface-hub<1.0,>=0.23.2->transformers) (2024.9.0)\n",
      "Requirement already satisfied: typing-extensions>=3.7.4.3 in c:\\users\\garvi\\appdata\\local\\programs\\python\\python312\\lib\\site-packages (from huggingface-hub<1.0,>=0.23.2->transformers) (4.12.2)\n",
      "Requirement already satisfied: pyarrow>=15.0.0 in c:\\users\\garvi\\appdata\\local\\programs\\python\\python312\\lib\\site-packages (from datasets) (18.1.0)\n",
      "Collecting dill<0.3.9,>=0.3.0 (from datasets)\n",
      "  Downloading dill-0.3.8-py3-none-any.whl.metadata (10 kB)\n",
      "Requirement already satisfied: pandas in c:\\users\\garvi\\appdata\\local\\programs\\python\\python312\\lib\\site-packages (from datasets) (2.2.3)\n",
      "Collecting xxhash (from datasets)\n",
      "  Downloading xxhash-3.5.0-cp312-cp312-win_amd64.whl.metadata (13 kB)\n",
      "Collecting multiprocess<0.70.17 (from datasets)\n",
      "  Downloading multiprocess-0.70.16-py312-none-any.whl.metadata (7.2 kB)\n",
      "Requirement already satisfied: aiohttp!=4.0.0a0,!=4.0.0a1 in c:\\users\\garvi\\appdata\\local\\programs\\python\\python312\\lib\\site-packages (from fsspec[http]<=2025.3.0,>=2023.1.0->datasets) (3.11.12)\n",
      "Requirement already satisfied: networkx in c:\\users\\garvi\\appdata\\local\\programs\\python\\python312\\lib\\site-packages (from torch) (3.1)\n",
      "Requirement already satisfied: jinja2 in c:\\users\\garvi\\appdata\\local\\programs\\python\\python312\\lib\\site-packages (from torch) (3.1.4)\n",
      "Requirement already satisfied: setuptools in c:\\users\\garvi\\appdata\\local\\programs\\python\\python312\\lib\\site-packages (from torch) (70.1.0)\n",
      "Requirement already satisfied: sympy==1.13.1 in c:\\users\\garvi\\appdata\\local\\programs\\python\\python312\\lib\\site-packages (from torch) (1.13.1)\n",
      "Requirement already satisfied: mpmath<1.4,>=1.1.0 in c:\\users\\garvi\\appdata\\local\\programs\\python\\python312\\lib\\site-packages (from sympy==1.13.1->torch) (1.3.0)\n",
      "Requirement already satisfied: aiohappyeyeballs>=2.3.0 in c:\\users\\garvi\\appdata\\local\\programs\\python\\python312\\lib\\site-packages (from aiohttp!=4.0.0a0,!=4.0.0a1->fsspec[http]<=2025.3.0,>=2023.1.0->datasets) (2.4.4)\n",
      "Requirement already satisfied: aiosignal>=1.1.2 in c:\\users\\garvi\\appdata\\local\\programs\\python\\python312\\lib\\site-packages (from aiohttp!=4.0.0a0,!=4.0.0a1->fsspec[http]<=2025.3.0,>=2023.1.0->datasets) (1.3.2)\n",
      "Requirement already satisfied: attrs>=17.3.0 in c:\\users\\garvi\\appdata\\local\\programs\\python\\python312\\lib\\site-packages (from aiohttp!=4.0.0a0,!=4.0.0a1->fsspec[http]<=2025.3.0,>=2023.1.0->datasets) (23.2.0)\n",
      "Requirement already satisfied: frozenlist>=1.1.1 in c:\\users\\garvi\\appdata\\local\\programs\\python\\python312\\lib\\site-packages (from aiohttp!=4.0.0a0,!=4.0.0a1->fsspec[http]<=2025.3.0,>=2023.1.0->datasets) (1.5.0)\n",
      "Requirement already satisfied: multidict<7.0,>=4.5 in c:\\users\\garvi\\appdata\\local\\programs\\python\\python312\\lib\\site-packages (from aiohttp!=4.0.0a0,!=4.0.0a1->fsspec[http]<=2025.3.0,>=2023.1.0->datasets) (6.1.0)\n",
      "Requirement already satisfied: propcache>=0.2.0 in c:\\users\\garvi\\appdata\\local\\programs\\python\\python312\\lib\\site-packages (from aiohttp!=4.0.0a0,!=4.0.0a1->fsspec[http]<=2025.3.0,>=2023.1.0->datasets) (0.2.1)\n",
      "Requirement already satisfied: yarl<2.0,>=1.17.0 in c:\\users\\garvi\\appdata\\local\\programs\\python\\python312\\lib\\site-packages (from aiohttp!=4.0.0a0,!=4.0.0a1->fsspec[http]<=2025.3.0,>=2023.1.0->datasets) (1.18.3)\n",
      "Requirement already satisfied: idna>=2.0 in c:\\users\\garvi\\appdata\\local\\programs\\python\\python312\\lib\\site-packages (from yarl<2.0,>=1.17.0->aiohttp!=4.0.0a0,!=4.0.0a1->fsspec[http]<=2025.3.0,>=2023.1.0->datasets) (3.7)\n",
      "Requirement already satisfied: charset-normalizer<4,>=2 in c:\\users\\garvi\\appdata\\local\\programs\\python\\python312\\lib\\site-packages (from requests->transformers) (3.3.2)\n",
      "Requirement already satisfied: urllib3<3,>=1.21.1 in c:\\users\\garvi\\appdata\\local\\programs\\python\\python312\\lib\\site-packages (from requests->transformers) (2.2.2)\n",
      "Requirement already satisfied: certifi>=2017.4.17 in c:\\users\\garvi\\appdata\\local\\programs\\python\\python312\\lib\\site-packages (from requests->transformers) (2024.6.2)\n",
      "Requirement already satisfied: colorama in c:\\users\\garvi\\appdata\\local\\programs\\python\\python312\\lib\\site-packages (from tqdm>=4.27->transformers) (0.4.6)\n",
      "Requirement already satisfied: MarkupSafe>=2.0 in c:\\users\\garvi\\appdata\\local\\programs\\python\\python312\\lib\\site-packages (from jinja2->torch) (2.1.5)\n",
      "Requirement already satisfied: python-dateutil>=2.8.2 in c:\\users\\garvi\\appdata\\local\\programs\\python\\python312\\lib\\site-packages (from pandas->datasets) (2.9.0.post0)\n",
      "Requirement already satisfied: pytz>=2020.1 in c:\\users\\garvi\\appdata\\local\\programs\\python\\python312\\lib\\site-packages (from pandas->datasets) (2024.1)\n",
      "Requirement already satisfied: tzdata>=2022.7 in c:\\users\\garvi\\appdata\\local\\programs\\python\\python312\\lib\\site-packages (from pandas->datasets) (2024.1)\n",
      "Requirement already satisfied: six>=1.5 in c:\\users\\garvi\\appdata\\local\\programs\\python\\python312\\lib\\site-packages (from python-dateutil>=2.8.2->pandas->datasets) (1.16.0)\n",
      "Downloading datasets-3.6.0-py3-none-any.whl (491 kB)\n",
      "Downloading dill-0.3.8-py3-none-any.whl (116 kB)\n",
      "Downloading multiprocess-0.70.16-py312-none-any.whl (146 kB)\n",
      "Downloading xxhash-3.5.0-cp312-cp312-win_amd64.whl (30 kB)\n",
      "Installing collected packages: xxhash, dill, multiprocess, datasets\n",
      "\n",
      "   ---------- ----------------------------- 1/4 [dill]\n",
      "   ---------- ----------------------------- 1/4 [dill]\n",
      "   ---------- ----------------------------- 1/4 [dill]\n",
      "   ---------- ----------------------------- 1/4 [dill]\n",
      "   ---------- ----------------------------- 1/4 [dill]\n",
      "   -------------------- ------------------- 2/4 [multiprocess]\n",
      "   -------------------- ------------------- 2/4 [multiprocess]\n",
      "   -------------------- ------------------- 2/4 [multiprocess]\n",
      "   -------------------- ------------------- 2/4 [multiprocess]\n",
      "   -------------------- ------------------- 2/4 [multiprocess]\n",
      "   ------------------------------ --------- 3/4 [datasets]\n",
      "   ------------------------------ --------- 3/4 [datasets]\n",
      "   ------------------------------ --------- 3/4 [datasets]\n",
      "   ------------------------------ --------- 3/4 [datasets]\n",
      "   ------------------------------ --------- 3/4 [datasets]\n",
      "   ------------------------------ --------- 3/4 [datasets]\n",
      "   ------------------------------ --------- 3/4 [datasets]\n",
      "   ------------------------------ --------- 3/4 [datasets]\n",
      "   ------------------------------ --------- 3/4 [datasets]\n",
      "   ------------------------------ --------- 3/4 [datasets]\n",
      "   ------------------------------ --------- 3/4 [datasets]\n",
      "   ------------------------------ --------- 3/4 [datasets]\n",
      "   ------------------------------ --------- 3/4 [datasets]\n",
      "   ------------------------------ --------- 3/4 [datasets]\n",
      "   ------------------------------ --------- 3/4 [datasets]\n",
      "   ---------------------------------------- 4/4 [datasets]\n",
      "\n",
      "Successfully installed datasets-3.6.0 dill-0.3.8 multiprocess-0.70.16 xxhash-3.5.0\n",
      "Note: you may need to restart the kernel to use updated packages.\n"
     ]
    }
   ],
   "source": [
    "%pip install transformers datasets torch\n"
   ]
  },
  {
   "cell_type": "markdown",
   "id": "21bc8706",
   "metadata": {},
   "source": [
    "# Dataset PreProcessing"
   ]
  },
  {
   "cell_type": "code",
   "execution_count": 1,
   "id": "e83a7a16",
   "metadata": {},
   "outputs": [
    {
     "data": {
      "application/vnd.jupyter.widget-view+json": {
       "model_id": "1b8c9c2d600a4c009ea1b8fac168ae2b",
       "version_major": 2,
       "version_minor": 0
      },
      "text/plain": [
       "Map:   0%|          | 0/3388 [00:00<?, ? examples/s]"
      ]
     },
     "metadata": {},
     "output_type": "display_data"
    },
    {
     "data": {
      "application/vnd.jupyter.widget-view+json": {
       "model_id": "58977bfcd6c54efd93a5996d4a83ca22",
       "version_major": 2,
       "version_minor": 0
      },
      "text/plain": [
       "Map:   0%|          | 0/377 [00:00<?, ? examples/s]"
      ]
     },
     "metadata": {},
     "output_type": "display_data"
    }
   ],
   "source": [
    "from datasets import Dataset\n",
    "from transformers import AutoTokenizer\n",
    "\n",
    "\n",
    "with open(r\"D:\\Projects\\Poetry_Generation_using_GEN_AI\\poems\\all_poems.txt\", \"r\", encoding=\"utf-8\") as f:\n",
    "    poems = [p.strip() for p in f.read().split(\"\\n\\n\") if len(p.strip().split()) > 10]\n",
    "\n",
    "dataset = Dataset.from_dict({\"text\": poems})\n",
    "dataset = dataset.train_test_split(test_size=0.1)\n",
    "\n",
    "tokenizer = AutoTokenizer.from_pretrained(\"gpt2\")\n",
    "if tokenizer.pad_token is None:\n",
    "    tokenizer.pad_token = tokenizer.eos_token\n",
    "\n",
    "def tokenize_function(example):\n",
    "    tokens = tokenizer(\n",
    "        example[\"text\"],\n",
    "        truncation=True,\n",
    "        padding=\"max_length\",\n",
    "        max_length=128\n",
    "    )\n",
    "    tokens[\"labels\"] = tokens[\"input_ids\"].copy()\n",
    "    return tokens\n",
    "\n",
    "\n",
    "tokenized_datasets = dataset.map(tokenize_function, batched=True)\n",
    "\n"
   ]
  },
  {
   "cell_type": "markdown",
   "id": "6c39967b",
   "metadata": {},
   "source": [
    "# Fine Tuning GPT2 Model"
   ]
  },
  {
   "cell_type": "code",
   "execution_count": 2,
   "id": "02788024",
   "metadata": {},
   "outputs": [
    {
     "name": "stdout",
     "output_type": "stream",
     "text": [
      "WARNING:tensorflow:From c:\\Users\\garvi\\AppData\\Local\\Programs\\Python\\Python312\\Lib\\site-packages\\tf_keras\\src\\losses.py:2976: The name tf.losses.sparse_softmax_cross_entropy is deprecated. Please use tf.compat.v1.losses.sparse_softmax_cross_entropy instead.\n",
      "\n"
     ]
    },
    {
     "name": "stderr",
     "output_type": "stream",
     "text": [
      "max_steps is given, it will override any value given in num_train_epochs\n"
     ]
    },
    {
     "data": {
      "application/vnd.jupyter.widget-view+json": {
       "model_id": "04a0e1f5ec8647359af491cc5e117af1",
       "version_major": 2,
       "version_minor": 0
      },
      "text/plain": [
       "  0%|          | 0/1500 [00:00<?, ?it/s]"
      ]
     },
     "metadata": {},
     "output_type": "display_data"
    },
    {
     "name": "stdout",
     "output_type": "stream",
     "text": [
      "{'loss': 2.7661, 'grad_norm': 4.690566539764404, 'learning_rate': 1.931034482758621e-05, 'epoch': 0.29}\n",
      "{'loss': 1.7722, 'grad_norm': 4.084377288818359, 'learning_rate': 1.7931034482758623e-05, 'epoch': 0.59}\n",
      "{'loss': 1.7437, 'grad_norm': 4.512091636657715, 'learning_rate': 1.6551724137931037e-05, 'epoch': 0.88}\n",
      "{'loss': 1.7117, 'grad_norm': 3.3973727226257324, 'learning_rate': 1.5172413793103448e-05, 'epoch': 1.18}\n",
      "{'loss': 1.6756, 'grad_norm': 3.878058671951294, 'learning_rate': 1.3793103448275863e-05, 'epoch': 1.47}\n",
      "{'loss': 1.6344, 'grad_norm': 4.15669584274292, 'learning_rate': 1.2413793103448277e-05, 'epoch': 1.77}\n",
      "{'loss': 1.6002, 'grad_norm': 4.616940498352051, 'learning_rate': 1.103448275862069e-05, 'epoch': 2.06}\n",
      "{'loss': 1.5723, 'grad_norm': 5.313350677490234, 'learning_rate': 9.655172413793105e-06, 'epoch': 2.36}\n",
      "{'loss': 1.5963, 'grad_norm': 4.188971042633057, 'learning_rate': 8.275862068965518e-06, 'epoch': 2.65}\n",
      "{'loss': 1.6273, 'grad_norm': 4.924607753753662, 'learning_rate': 6.896551724137932e-06, 'epoch': 2.95}\n",
      "{'loss': 1.5897, 'grad_norm': 5.544044017791748, 'learning_rate': 5.517241379310345e-06, 'epoch': 3.24}\n",
      "{'loss': 1.5355, 'grad_norm': 5.1643290519714355, 'learning_rate': 4.137931034482759e-06, 'epoch': 3.54}\n",
      "{'loss': 1.5914, 'grad_norm': 4.981834411621094, 'learning_rate': 2.7586206896551725e-06, 'epoch': 3.83}\n",
      "{'loss': 1.5561, 'grad_norm': 4.43327522277832, 'learning_rate': 1.3793103448275862e-06, 'epoch': 4.13}\n",
      "{'loss': 1.5366, 'grad_norm': 4.65954065322876, 'learning_rate': 0.0, 'epoch': 4.42}\n",
      "{'train_runtime': 10943.4834, 'train_samples_per_second': 1.371, 'train_steps_per_second': 0.137, 'train_loss': 1.7006060485839845, 'epoch': 4.42}\n"
     ]
    },
    {
     "data": {
      "text/plain": [
       "('./poetry-gpt2-finetuned\\\\tokenizer_config.json',\n",
       " './poetry-gpt2-finetuned\\\\special_tokens_map.json',\n",
       " './poetry-gpt2-finetuned\\\\vocab.json',\n",
       " './poetry-gpt2-finetuned\\\\merges.txt',\n",
       " './poetry-gpt2-finetuned\\\\added_tokens.json',\n",
       " './poetry-gpt2-finetuned\\\\tokenizer.json')"
      ]
     },
     "execution_count": 2,
     "metadata": {},
     "output_type": "execute_result"
    }
   ],
   "source": [
    "from transformers import AutoModelForCausalLM, Trainer, TrainingArguments\n",
    "\n",
    "model = AutoModelForCausalLM.from_pretrained(\"gpt2\")\n",
    "\n",
    "training_args = TrainingArguments(\n",
    "    output_dir=\"./poetry-gpt2-finetuned\",\n",
    "    num_train_epochs=1,                  \n",
    "    per_device_train_batch_size=10,      \n",
    "    save_steps=1000,\n",
    "    save_total_limit=1,\n",
    "    logging_steps=100,\n",
    "    learning_rate=2e-5,\n",
    "    weight_decay=0.01,\n",
    "    fp16=True,                         \n",
    "    max_steps=1500,                       \n",
    "    dataloader_num_workers=4,            \n",
    "    gradient_accumulation_steps=1,       \n",
    "    warmup_steps=50,                     \n",
    "    logging_dir='./logs',\n",
    "    report_to=None                      \n",
    ")\n",
    "trainer = Trainer(\n",
    "    model=model,\n",
    "    args=training_args,\n",
    "    train_dataset=tokenized_datasets[\"train\"],\n",
    "    eval_dataset=tokenized_datasets[\"test\"],\n",
    ")\n",
    "\n",
    "trainer.train()\n",
    "model.save_pretrained(\"./poetry-gpt2-finetuned\")\n",
    "tokenizer.save_pretrained(\"./poetry-gpt2-finetuned\")\n"
   ]
  },
  {
   "cell_type": "markdown",
   "id": "4b32dccf",
   "metadata": {},
   "source": []
  },
  {
   "cell_type": "code",
   "execution_count": null,
   "id": "62adbd9e",
   "metadata": {},
   "outputs": [],
   "source": []
  }
 ],
 "metadata": {
  "kernelspec": {
   "display_name": "Python 3",
   "language": "python",
   "name": "python3"
  },
  "language_info": {
   "codemirror_mode": {
    "name": "ipython",
    "version": 3
   },
   "file_extension": ".py",
   "mimetype": "text/x-python",
   "name": "python",
   "nbconvert_exporter": "python",
   "pygments_lexer": "ipython3",
   "version": "3.12.4"
  }
 },
 "nbformat": 4,
 "nbformat_minor": 5
}
